{
 "cells": [
  {
   "cell_type": "code",
   "execution_count": 1,
   "metadata": {},
   "outputs": [],
   "source": [
    "# importing mandatory libraries\n",
    "import pandas as pd\n",
    "import numpy as np\n",
    "import matplotlib.pyplot as plt\n",
    "import seaborn as sns"
   ]
  },
  {
   "cell_type": "code",
   "execution_count": 2,
   "metadata": {},
   "outputs": [],
   "source": [
    "# Reading the data set\n",
    "df = pd.read_csv('diabetes.csv')"
   ]
  },
  {
   "cell_type": "code",
   "execution_count": 3,
   "metadata": {},
   "outputs": [
    {
     "data": {
      "text/html": [
       "<div>\n",
       "<style scoped>\n",
       "    .dataframe tbody tr th:only-of-type {\n",
       "        vertical-align: middle;\n",
       "    }\n",
       "\n",
       "    .dataframe tbody tr th {\n",
       "        vertical-align: top;\n",
       "    }\n",
       "\n",
       "    .dataframe thead th {\n",
       "        text-align: right;\n",
       "    }\n",
       "</style>\n",
       "<table border=\"1\" class=\"dataframe\">\n",
       "  <thead>\n",
       "    <tr style=\"text-align: right;\">\n",
       "      <th></th>\n",
       "      <th>Pregnancies</th>\n",
       "      <th>Glucose</th>\n",
       "      <th>BloodPressure</th>\n",
       "      <th>SkinThickness</th>\n",
       "      <th>Insulin</th>\n",
       "      <th>BMI</th>\n",
       "      <th>DiabetesPedigreeFunction</th>\n",
       "      <th>Age</th>\n",
       "      <th>Outcome</th>\n",
       "    </tr>\n",
       "  </thead>\n",
       "  <tbody>\n",
       "    <tr>\n",
       "      <td>0</td>\n",
       "      <td>6</td>\n",
       "      <td>148</td>\n",
       "      <td>72</td>\n",
       "      <td>35</td>\n",
       "      <td>0</td>\n",
       "      <td>33.6</td>\n",
       "      <td>0.627</td>\n",
       "      <td>50</td>\n",
       "      <td>1</td>\n",
       "    </tr>\n",
       "    <tr>\n",
       "      <td>1</td>\n",
       "      <td>1</td>\n",
       "      <td>85</td>\n",
       "      <td>66</td>\n",
       "      <td>29</td>\n",
       "      <td>0</td>\n",
       "      <td>26.6</td>\n",
       "      <td>0.351</td>\n",
       "      <td>31</td>\n",
       "      <td>0</td>\n",
       "    </tr>\n",
       "    <tr>\n",
       "      <td>2</td>\n",
       "      <td>8</td>\n",
       "      <td>183</td>\n",
       "      <td>64</td>\n",
       "      <td>0</td>\n",
       "      <td>0</td>\n",
       "      <td>23.3</td>\n",
       "      <td>0.672</td>\n",
       "      <td>32</td>\n",
       "      <td>1</td>\n",
       "    </tr>\n",
       "    <tr>\n",
       "      <td>3</td>\n",
       "      <td>1</td>\n",
       "      <td>89</td>\n",
       "      <td>66</td>\n",
       "      <td>23</td>\n",
       "      <td>94</td>\n",
       "      <td>28.1</td>\n",
       "      <td>0.167</td>\n",
       "      <td>21</td>\n",
       "      <td>0</td>\n",
       "    </tr>\n",
       "    <tr>\n",
       "      <td>4</td>\n",
       "      <td>0</td>\n",
       "      <td>137</td>\n",
       "      <td>40</td>\n",
       "      <td>35</td>\n",
       "      <td>168</td>\n",
       "      <td>43.1</td>\n",
       "      <td>2.288</td>\n",
       "      <td>33</td>\n",
       "      <td>1</td>\n",
       "    </tr>\n",
       "  </tbody>\n",
       "</table>\n",
       "</div>"
      ],
      "text/plain": [
       "   Pregnancies  Glucose  BloodPressure  SkinThickness  Insulin   BMI  \\\n",
       "0            6      148             72             35        0  33.6   \n",
       "1            1       85             66             29        0  26.6   \n",
       "2            8      183             64              0        0  23.3   \n",
       "3            1       89             66             23       94  28.1   \n",
       "4            0      137             40             35      168  43.1   \n",
       "\n",
       "   DiabetesPedigreeFunction  Age  Outcome  \n",
       "0                     0.627   50        1  \n",
       "1                     0.351   31        0  \n",
       "2                     0.672   32        1  \n",
       "3                     0.167   21        0  \n",
       "4                     2.288   33        1  "
      ]
     },
     "execution_count": 3,
     "metadata": {},
     "output_type": "execute_result"
    }
   ],
   "source": [
    "# View the dataset\n",
    "df.head()"
   ]
  },
  {
   "cell_type": "code",
   "execution_count": 4,
   "metadata": {},
   "outputs": [
    {
     "data": {
      "text/plain": [
       "(768, 9)"
      ]
     },
     "execution_count": 4,
     "metadata": {},
     "output_type": "execute_result"
    }
   ],
   "source": [
    "# Cheking the no of columns and the rows\n",
    "df.shape"
   ]
  },
  {
   "cell_type": "code",
   "execution_count": 5,
   "metadata": {},
   "outputs": [
    {
     "name": "stdout",
     "output_type": "stream",
     "text": [
      "<class 'pandas.core.frame.DataFrame'>\n",
      "RangeIndex: 768 entries, 0 to 767\n",
      "Data columns (total 9 columns):\n",
      "Pregnancies                 768 non-null int64\n",
      "Glucose                     768 non-null int64\n",
      "BloodPressure               768 non-null int64\n",
      "SkinThickness               768 non-null int64\n",
      "Insulin                     768 non-null int64\n",
      "BMI                         768 non-null float64\n",
      "DiabetesPedigreeFunction    768 non-null float64\n",
      "Age                         768 non-null int64\n",
      "Outcome                     768 non-null int64\n",
      "dtypes: float64(2), int64(7)\n",
      "memory usage: 54.1 KB\n"
     ]
    }
   ],
   "source": [
    "# Viewing the data types of all the features\n",
    "df.info()"
   ]
  },
  {
   "cell_type": "code",
   "execution_count": 6,
   "metadata": {},
   "outputs": [
    {
     "data": {
      "text/plain": [
       "Pregnancies                 0\n",
       "Glucose                     0\n",
       "BloodPressure               0\n",
       "SkinThickness               0\n",
       "Insulin                     0\n",
       "BMI                         0\n",
       "DiabetesPedigreeFunction    0\n",
       "Age                         0\n",
       "Outcome                     0\n",
       "dtype: int64"
      ]
     },
     "execution_count": 6,
     "metadata": {},
     "output_type": "execute_result"
    }
   ],
   "source": [
    "# Checking for null values\n",
    "df.isnull().sum()"
   ]
  },
  {
   "cell_type": "code",
   "execution_count": 7,
   "metadata": {},
   "outputs": [],
   "source": [
    "# I have abserved zero values in 'Glucose', 'Insulin' ,'SkinThickness'. There no meaning with zero values.\n",
    "# hence replacing with the median values\n",
    "df['Glucose'] = np.where(df['Glucose']==0,df['Glucose'].median(), df['Glucose'])\n",
    "df['Insulin'] = np.where(df['Insulin']==0,df['Insulin'].median(), df['Insulin'])\n",
    "df['SkinThickness'] = np.where(df['SkinThickness']==0,df['SkinThickness'].median(), df['SkinThickness'])"
   ]
  },
  {
   "cell_type": "code",
   "execution_count": 8,
   "metadata": {},
   "outputs": [
    {
     "data": {
      "text/html": [
       "<div>\n",
       "<style scoped>\n",
       "    .dataframe tbody tr th:only-of-type {\n",
       "        vertical-align: middle;\n",
       "    }\n",
       "\n",
       "    .dataframe tbody tr th {\n",
       "        vertical-align: top;\n",
       "    }\n",
       "\n",
       "    .dataframe thead th {\n",
       "        text-align: right;\n",
       "    }\n",
       "</style>\n",
       "<table border=\"1\" class=\"dataframe\">\n",
       "  <thead>\n",
       "    <tr style=\"text-align: right;\">\n",
       "      <th></th>\n",
       "      <th>Pregnancies</th>\n",
       "      <th>Glucose</th>\n",
       "      <th>BloodPressure</th>\n",
       "      <th>SkinThickness</th>\n",
       "      <th>Insulin</th>\n",
       "      <th>BMI</th>\n",
       "      <th>DiabetesPedigreeFunction</th>\n",
       "      <th>Age</th>\n",
       "      <th>Outcome</th>\n",
       "    </tr>\n",
       "  </thead>\n",
       "  <tbody>\n",
       "    <tr>\n",
       "      <td>0</td>\n",
       "      <td>6</td>\n",
       "      <td>148.0</td>\n",
       "      <td>72</td>\n",
       "      <td>35.0</td>\n",
       "      <td>30.5</td>\n",
       "      <td>33.6</td>\n",
       "      <td>0.627</td>\n",
       "      <td>50</td>\n",
       "      <td>1</td>\n",
       "    </tr>\n",
       "    <tr>\n",
       "      <td>1</td>\n",
       "      <td>1</td>\n",
       "      <td>85.0</td>\n",
       "      <td>66</td>\n",
       "      <td>29.0</td>\n",
       "      <td>30.5</td>\n",
       "      <td>26.6</td>\n",
       "      <td>0.351</td>\n",
       "      <td>31</td>\n",
       "      <td>0</td>\n",
       "    </tr>\n",
       "    <tr>\n",
       "      <td>2</td>\n",
       "      <td>8</td>\n",
       "      <td>183.0</td>\n",
       "      <td>64</td>\n",
       "      <td>23.0</td>\n",
       "      <td>30.5</td>\n",
       "      <td>23.3</td>\n",
       "      <td>0.672</td>\n",
       "      <td>32</td>\n",
       "      <td>1</td>\n",
       "    </tr>\n",
       "    <tr>\n",
       "      <td>3</td>\n",
       "      <td>1</td>\n",
       "      <td>89.0</td>\n",
       "      <td>66</td>\n",
       "      <td>23.0</td>\n",
       "      <td>94.0</td>\n",
       "      <td>28.1</td>\n",
       "      <td>0.167</td>\n",
       "      <td>21</td>\n",
       "      <td>0</td>\n",
       "    </tr>\n",
       "    <tr>\n",
       "      <td>4</td>\n",
       "      <td>0</td>\n",
       "      <td>137.0</td>\n",
       "      <td>40</td>\n",
       "      <td>35.0</td>\n",
       "      <td>168.0</td>\n",
       "      <td>43.1</td>\n",
       "      <td>2.288</td>\n",
       "      <td>33</td>\n",
       "      <td>1</td>\n",
       "    </tr>\n",
       "  </tbody>\n",
       "</table>\n",
       "</div>"
      ],
      "text/plain": [
       "   Pregnancies  Glucose  BloodPressure  SkinThickness  Insulin   BMI  \\\n",
       "0            6    148.0             72           35.0     30.5  33.6   \n",
       "1            1     85.0             66           29.0     30.5  26.6   \n",
       "2            8    183.0             64           23.0     30.5  23.3   \n",
       "3            1     89.0             66           23.0     94.0  28.1   \n",
       "4            0    137.0             40           35.0    168.0  43.1   \n",
       "\n",
       "   DiabetesPedigreeFunction  Age  Outcome  \n",
       "0                     0.627   50        1  \n",
       "1                     0.351   31        0  \n",
       "2                     0.672   32        1  \n",
       "3                     0.167   21        0  \n",
       "4                     2.288   33        1  "
      ]
     },
     "execution_count": 8,
     "metadata": {},
     "output_type": "execute_result"
    }
   ],
   "source": [
    "# Rechechecking the data set after replacing zero's with median values\n",
    "df.head()"
   ]
  },
  {
   "cell_type": "code",
   "execution_count": 9,
   "metadata": {},
   "outputs": [],
   "source": [
    "# selecting dependendent and independent features\n",
    "X = df.drop('Outcome',axis = 1)\n",
    "y = df['Outcome'] "
   ]
  },
  {
   "cell_type": "code",
   "execution_count": 10,
   "metadata": {},
   "outputs": [
    {
     "name": "stdout",
     "output_type": "stream",
     "text": [
      "   Pregnancies  Glucose  BloodPressure  SkinThickness  Insulin   BMI  \\\n",
      "0            6    148.0             72           35.0     30.5  33.6   \n",
      "1            1     85.0             66           29.0     30.5  26.6   \n",
      "2            8    183.0             64           23.0     30.5  23.3   \n",
      "3            1     89.0             66           23.0     94.0  28.1   \n",
      "4            0    137.0             40           35.0    168.0  43.1   \n",
      "\n",
      "   DiabetesPedigreeFunction  Age  \n",
      "0                     0.627   50  \n",
      "1                     0.351   31  \n",
      "2                     0.672   32  \n",
      "3                     0.167   21  \n",
      "4                     2.288   33  \n",
      "0    1\n",
      "1    0\n",
      "2    1\n",
      "3    0\n",
      "4    1\n",
      "Name: Outcome, dtype: int64\n"
     ]
    }
   ],
   "source": [
    "# Viewing dependent and independent features\n",
    "print(X.head())\n",
    "print(y.head())"
   ]
  },
  {
   "cell_type": "code",
   "execution_count": 11,
   "metadata": {},
   "outputs": [],
   "source": [
    "# spliting the data for training the model\n",
    "from sklearn.model_selection import train_test_split\n",
    "X_train, X_test, y_train, y_test = train_test_split(X, y, test_size=0.20, random_state=33)"
   ]
  },
  {
   "cell_type": "code",
   "execution_count": 12,
   "metadata": {},
   "outputs": [],
   "source": [
    "# Training the data with randomforest classifier \n",
    "from sklearn.ensemble import RandomForestClassifier\n",
    "rf_classifier = RandomForestClassifier(n_estimators=10).fit(X_train,y_train)"
   ]
  },
  {
   "cell_type": "code",
   "execution_count": 13,
   "metadata": {},
   "outputs": [
    {
     "name": "stdout",
     "output_type": "stream",
     "text": [
      "0.7337662337662337\n",
      "[[85 14]\n",
      " [27 28]]\n",
      "              precision    recall  f1-score   support\n",
      "\n",
      "           0       0.76      0.86      0.81        99\n",
      "           1       0.67      0.51      0.58        55\n",
      "\n",
      "    accuracy                           0.73       154\n",
      "   macro avg       0.71      0.68      0.69       154\n",
      "weighted avg       0.73      0.73      0.72       154\n",
      "\n"
     ]
    }
   ],
   "source": [
    "# Evaluating the model\n",
    "predictions = rf_classifier.predict(X_test)\n",
    "from sklearn.metrics import confusion_matrix, classification_report, accuracy_score\n",
    "print(accuracy_score(y_test, predictions))\n",
    "print(confusion_matrix(y_test, predictions))\n",
    "print(classification_report(y_test, predictions))"
   ]
  },
  {
   "cell_type": "markdown",
   "metadata": {},
   "source": [
    "### training the model with randomized search cross validation"
   ]
  },
  {
   "cell_type": "code",
   "execution_count": 14,
   "metadata": {},
   "outputs": [
    {
     "name": "stdout",
     "output_type": "stream",
     "text": [
      "{'n_estimators': [200, 400, 600, 800, 1000, 1200, 1400, 1600, 1800, 2000], 'max_features': ['auto', 'sqrt', 'log2'], 'max_depth': [10, 120, 230, 340, 450, 560, 670, 780, 890, 1000], 'min_samples_split': [3, 4, 5, 7, 9], 'min_samples_leaf': [1, 2, 4, 6, 8], 'criterion': ['entropy', 'gini']}\n"
     ]
    }
   ],
   "source": [
    "# Specifying the parameter distributions for randomized cross validation\n",
    "from sklearn.model_selection import RandomizedSearchCV\n",
    "# No. of trees in a random forest\n",
    "n_estimators=[int(x) for x in np.linspace(start = 200, stop = 2000, num = 10)]\n",
    "# no of features to consider at every split\n",
    "max_features=['auto','sqrt', 'log2']\n",
    "#maximum numer of levels in a tree\n",
    "max_depth= [int(x) for x in np.linspace(10,1000,10)]\n",
    "# Minimum number of samples required to split a node\n",
    "min_samples_split = [3,4,5,7,9]\n",
    "# Minimum number of samples required at each leaf node\n",
    "min_samples_leaf = [1,2,4,6,8]\n",
    "# Create the random grid\n",
    "random_grid = {'n_estimators': n_estimators,\n",
    "               'max_features': max_features,\n",
    "               'max_depth': max_depth,\n",
    "               'min_samples_split': min_samples_split,\n",
    "               'min_samples_leaf': min_samples_leaf,\n",
    "              'criterion':['entropy','gini']}\n",
    "print(random_grid)"
   ]
  },
  {
   "cell_type": "code",
   "execution_count": 15,
   "metadata": {},
   "outputs": [
    {
     "name": "stdout",
     "output_type": "stream",
     "text": [
      "Fitting 3 folds for each of 100 candidates, totalling 300 fits\n"
     ]
    },
    {
     "name": "stderr",
     "output_type": "stream",
     "text": [
      "[Parallel(n_jobs=-1)]: Using backend LokyBackend with 4 concurrent workers.\n",
      "[Parallel(n_jobs=-1)]: Done  33 tasks      | elapsed:   38.1s\n",
      "[Parallel(n_jobs=-1)]: Done 154 tasks      | elapsed:  2.1min\n",
      "[Parallel(n_jobs=-1)]: Done 300 out of 300 | elapsed:  4.1min finished\n"
     ]
    },
    {
     "data": {
      "text/plain": [
       "RandomizedSearchCV(cv=3, error_score='raise-deprecating',\n",
       "                   estimator=RandomForestClassifier(bootstrap=True,\n",
       "                                                    class_weight=None,\n",
       "                                                    criterion='gini',\n",
       "                                                    max_depth=None,\n",
       "                                                    max_features='auto',\n",
       "                                                    max_leaf_nodes=None,\n",
       "                                                    min_impurity_decrease=0.0,\n",
       "                                                    min_impurity_split=None,\n",
       "                                                    min_samples_leaf=1,\n",
       "                                                    min_samples_split=2,\n",
       "                                                    min_weight_fraction_leaf=0.0,\n",
       "                                                    n_estimators='warn',\n",
       "                                                    n_jobs=None,\n",
       "                                                    oob_sc...\n",
       "                   param_distributions={'criterion': ['entropy', 'gini'],\n",
       "                                        'max_depth': [10, 120, 230, 340, 450,\n",
       "                                                      560, 670, 780, 890,\n",
       "                                                      1000],\n",
       "                                        'max_features': ['auto', 'sqrt',\n",
       "                                                         'log2'],\n",
       "                                        'min_samples_leaf': [1, 2, 4, 6, 8],\n",
       "                                        'min_samples_split': [3, 4, 5, 7, 9],\n",
       "                                        'n_estimators': [200, 400, 600, 800,\n",
       "                                                         1000, 1200, 1400, 1600,\n",
       "                                                         1800, 2000]},\n",
       "                   pre_dispatch='2*n_jobs', random_state=100, refit=True,\n",
       "                   return_train_score=False, scoring=None, verbose=2)"
      ]
     },
     "execution_count": 15,
     "metadata": {},
     "output_type": "execute_result"
    }
   ],
   "source": [
    "# training the model with randomized search\n",
    "from sklearn.model_selection import RandomizedSearchCV\n",
    "rf = RandomForestClassifier()\n",
    "rf_randomcv=RandomizedSearchCV(estimator=rf,param_distributions=random_grid,n_iter=100,cv=3,verbose=2,\n",
    "                               random_state=100,n_jobs=-1)\n",
    "### fit the randomized model\n",
    "rf_randomcv.fit(X_train,y_train)"
   ]
  },
  {
   "cell_type": "code",
   "execution_count": 16,
   "metadata": {},
   "outputs": [
    {
     "data": {
      "text/plain": [
       "{'n_estimators': 800,\n",
       " 'min_samples_split': 5,\n",
       " 'min_samples_leaf': 8,\n",
       " 'max_features': 'log2',\n",
       " 'max_depth': 230,\n",
       " 'criterion': 'gini'}"
      ]
     },
     "execution_count": 16,
     "metadata": {},
     "output_type": "execute_result"
    }
   ],
   "source": [
    "# Viewing the best parameters with the randomized cross validation\n",
    "rf_randomcv.best_params_"
   ]
  },
  {
   "cell_type": "code",
   "execution_count": 17,
   "metadata": {},
   "outputs": [
    {
     "data": {
      "text/plain": [
       "RandomForestClassifier(bootstrap=True, class_weight=None, criterion='gini',\n",
       "                       max_depth=230, max_features='log2', max_leaf_nodes=None,\n",
       "                       min_impurity_decrease=0.0, min_impurity_split=None,\n",
       "                       min_samples_leaf=8, min_samples_split=5,\n",
       "                       min_weight_fraction_leaf=0.0, n_estimators=800,\n",
       "                       n_jobs=None, oob_score=False, random_state=None,\n",
       "                       verbose=0, warm_start=False)"
      ]
     },
     "execution_count": 17,
     "metadata": {},
     "output_type": "execute_result"
    }
   ],
   "source": [
    "# Viewing the best estimators with the randomized cross validation\n",
    "rf_randomcv.best_estimator_"
   ]
  },
  {
   "cell_type": "code",
   "execution_count": 18,
   "metadata": {},
   "outputs": [],
   "source": [
    "# assigning the best estimators of randomized cross validation values with to a variable\n",
    "best_random_grid=rf_randomcv.best_estimator_"
   ]
  },
  {
   "cell_type": "code",
   "execution_count": 19,
   "metadata": {},
   "outputs": [
    {
     "name": "stdout",
     "output_type": "stream",
     "text": [
      "0.7402597402597403\n",
      "[[86 13]\n",
      " [27 28]]\n",
      "              precision    recall  f1-score   support\n",
      "\n",
      "           0       0.76      0.87      0.81        99\n",
      "           1       0.68      0.51      0.58        55\n",
      "\n",
      "    accuracy                           0.74       154\n",
      "   macro avg       0.72      0.69      0.70       154\n",
      "weighted avg       0.73      0.74      0.73       154\n",
      "\n"
     ]
    }
   ],
   "source": [
    "# evaluating the model with the best estimators of randomized cross validation\n",
    "predictions = best_random_grid.predict(X_test)\n",
    "print(accuracy_score(y_test, predictions))\n",
    "print(confusion_matrix(y_test, predictions))\n",
    "print(classification_report(y_test, predictions))"
   ]
  },
  {
   "cell_type": "markdown",
   "metadata": {},
   "source": [
    "### grid search cross validation \n"
   ]
  },
  {
   "cell_type": "markdown",
   "metadata": {},
   "source": [
    "here I am taking the best values from the randomizes cross validation"
   ]
  },
  {
   "cell_type": "code",
   "execution_count": 20,
   "metadata": {},
   "outputs": [
    {
     "data": {
      "text/plain": [
       "{'n_estimators': 800,\n",
       " 'min_samples_split': 5,\n",
       " 'min_samples_leaf': 8,\n",
       " 'max_features': 'log2',\n",
       " 'max_depth': 230,\n",
       " 'criterion': 'gini'}"
      ]
     },
     "execution_count": 20,
     "metadata": {},
     "output_type": "execute_result"
    }
   ],
   "source": [
    "# viewing the best parameters of the randomized cross validation\n",
    "rf_randomcv.best_params_"
   ]
  },
  {
   "cell_type": "code",
   "execution_count": 21,
   "metadata": {},
   "outputs": [
    {
     "name": "stdout",
     "output_type": "stream",
     "text": [
      "{'criterion': ['gini'], 'max_depth': [230], 'max_features': ['log2'], 'min_samples_leaf': [8, 10, 12], 'min_samples_split': [3, 4, 5, 6, 7], 'n_estimators': [600, 700, 800, 900, 1000]}\n"
     ]
    }
   ],
   "source": [
    "# Specifying the parameter distributions for grid-search cross validation\n",
    "# values taking from the randomized search cross validation bese parameters.\n",
    "from sklearn.model_selection import GridSearchCV\n",
    "\n",
    "param_grid = {\n",
    "    'criterion': [rf_randomcv.best_params_['criterion']],\n",
    "    'max_depth': [rf_randomcv.best_params_['max_depth']],\n",
    "    'max_features': [rf_randomcv.best_params_['max_features']],\n",
    "    'min_samples_leaf': [rf_randomcv.best_params_['min_samples_leaf'], \n",
    "                         rf_randomcv.best_params_['min_samples_leaf']+2, \n",
    "                         rf_randomcv.best_params_['min_samples_leaf'] + 4],\n",
    "    'min_samples_split': [rf_randomcv.best_params_['min_samples_split'] - 2,\n",
    "                          rf_randomcv.best_params_['min_samples_split'] - 1,\n",
    "                          rf_randomcv.best_params_['min_samples_split'], \n",
    "                          rf_randomcv.best_params_['min_samples_split'] +1,\n",
    "                          rf_randomcv.best_params_['min_samples_split'] + 2],\n",
    "    'n_estimators': [rf_randomcv.best_params_['n_estimators'] - 200, rf_randomcv.best_params_['n_estimators'] - 100, \n",
    "                     rf_randomcv.best_params_['n_estimators'], \n",
    "                     rf_randomcv.best_params_['n_estimators'] + 100, rf_randomcv.best_params_['n_estimators'] + 200]\n",
    "}\n",
    "\n",
    "print(param_grid)"
   ]
  },
  {
   "cell_type": "code",
   "execution_count": 22,
   "metadata": {},
   "outputs": [
    {
     "data": {
      "text/plain": [
       "75"
      ]
     },
     "execution_count": 22,
     "metadata": {},
     "output_type": "execute_result"
    }
   ],
   "source": [
    "# Checking how many no of itterationes done in the grid-search cross validation\n",
    "1*1*1*3*5*5"
   ]
  },
  {
   "cell_type": "code",
   "execution_count": 23,
   "metadata": {},
   "outputs": [
    {
     "name": "stdout",
     "output_type": "stream",
     "text": [
      "Fitting 10 folds for each of 75 candidates, totalling 750 fits\n"
     ]
    },
    {
     "name": "stderr",
     "output_type": "stream",
     "text": [
      "[Parallel(n_jobs=-1)]: Using backend LokyBackend with 4 concurrent workers.\n",
      "[Parallel(n_jobs=-1)]: Done  33 tasks      | elapsed:   24.8s\n",
      "[Parallel(n_jobs=-1)]: Done 154 tasks      | elapsed:  1.6min\n",
      "[Parallel(n_jobs=-1)]: Done 357 tasks      | elapsed:  3.6min\n",
      "[Parallel(n_jobs=-1)]: Done 640 tasks      | elapsed:  6.2min\n",
      "[Parallel(n_jobs=-1)]: Done 750 out of 750 | elapsed:  7.5min finished\n"
     ]
    },
    {
     "data": {
      "text/plain": [
       "GridSearchCV(cv=10, error_score='raise-deprecating',\n",
       "             estimator=RandomForestClassifier(bootstrap=True, class_weight=None,\n",
       "                                              criterion='gini', max_depth=None,\n",
       "                                              max_features='auto',\n",
       "                                              max_leaf_nodes=None,\n",
       "                                              min_impurity_decrease=0.0,\n",
       "                                              min_impurity_split=None,\n",
       "                                              min_samples_leaf=1,\n",
       "                                              min_samples_split=2,\n",
       "                                              min_weight_fraction_leaf=0.0,\n",
       "                                              n_estimators='warn', n_jobs=None,\n",
       "                                              oob_score=False,\n",
       "                                              random_state=None, verbose=0,\n",
       "                                              warm_start=False),\n",
       "             iid='warn', n_jobs=-1,\n",
       "             param_grid={'criterion': ['gini'], 'max_depth': [230],\n",
       "                         'max_features': ['log2'],\n",
       "                         'min_samples_leaf': [8, 10, 12],\n",
       "                         'min_samples_split': [3, 4, 5, 6, 7],\n",
       "                         'n_estimators': [600, 700, 800, 900, 1000]},\n",
       "             pre_dispatch='2*n_jobs', refit=True, return_train_score=False,\n",
       "             scoring=None, verbose=2)"
      ]
     },
     "execution_count": 23,
     "metadata": {},
     "output_type": "execute_result"
    }
   ],
   "source": [
    "#### Fit the grid_search to the data\n",
    "rf=RandomForestClassifier()\n",
    "grid_search=GridSearchCV(estimator=rf,param_grid=param_grid,cv=10,n_jobs=-1,verbose=2)\n",
    "grid_search.fit(X_train,y_train)"
   ]
  },
  {
   "cell_type": "code",
   "execution_count": 24,
   "metadata": {},
   "outputs": [
    {
     "data": {
      "text/plain": [
       "RandomForestClassifier(bootstrap=True, class_weight=None, criterion='gini',\n",
       "                       max_depth=230, max_features='log2', max_leaf_nodes=None,\n",
       "                       min_impurity_decrease=0.0, min_impurity_split=None,\n",
       "                       min_samples_leaf=8, min_samples_split=6,\n",
       "                       min_weight_fraction_leaf=0.0, n_estimators=600,\n",
       "                       n_jobs=None, oob_score=False, random_state=None,\n",
       "                       verbose=0, warm_start=False)"
      ]
     },
     "execution_count": 24,
     "metadata": {},
     "output_type": "execute_result"
    }
   ],
   "source": [
    "# Viewing the best parameters with the grid-search cross validation\n",
    "grid_search.best_estimator_"
   ]
  },
  {
   "cell_type": "code",
   "execution_count": 25,
   "metadata": {},
   "outputs": [],
   "source": [
    "# assigning the best estimators of grid-search cross validation values with to a variable\n",
    "best_grid=grid_search.best_estimator_"
   ]
  },
  {
   "cell_type": "code",
   "execution_count": 26,
   "metadata": {},
   "outputs": [
    {
     "name": "stdout",
     "output_type": "stream",
     "text": [
      "Accuracy Score 0.7532467532467533\n",
      "[[86 13]\n",
      " [25 30]]\n",
      "              precision    recall  f1-score   support\n",
      "\n",
      "           0       0.77      0.87      0.82        99\n",
      "           1       0.70      0.55      0.61        55\n",
      "\n",
      "    accuracy                           0.75       154\n",
      "   macro avg       0.74      0.71      0.72       154\n",
      "weighted avg       0.75      0.75      0.75       154\n",
      "\n"
     ]
    }
   ],
   "source": [
    "# model performance evaluation with best estimators of grid-search cross validation values\n",
    "y_pred=best_grid.predict(X_test)\n",
    "print(\"Accuracy Score {}\".format(accuracy_score(y_test,y_pred)))\n",
    "print(confusion_matrix(y_test,y_pred))\n",
    "print(format(classification_report(y_test,y_pred)))"
   ]
  },
  {
   "cell_type": "markdown",
   "metadata": {},
   "source": [
    "### Automated hyperparameter tuning techinique called \"bayesian optimization\""
   ]
  },
  {
   "cell_type": "code",
   "execution_count": 27,
   "metadata": {},
   "outputs": [],
   "source": [
    "# hyperparameter tuning with bayesian optimization will be done with 'fmin' function\n",
    "# we need to define space, 'objective', 'trails' for fmin function\n",
    "# 1. defining the space\n",
    "from hyperopt import hp,fmin,tpe,STATUS_OK,Trials\n",
    "space = {'criterion': hp.choice('criterion', ['entropy', 'gini']),\n",
    "        'max_depth': hp.quniform('max_depth', 10, 1200, 10),\n",
    "        'max_features': hp.choice('max_features', ['auto', 'sqrt','log2', None]),\n",
    "        'min_samples_leaf': hp.uniform('min_samples_leaf', 0, 0.5),\n",
    "        'min_samples_split' : hp.uniform ('min_samples_split', 0, 1),\n",
    "        'n_estimators' : hp.choice('n_estimators', [10, 50, 300, 750, 1200,1300,1500])\n",
    "    }"
   ]
  },
  {
   "cell_type": "code",
   "execution_count": 29,
   "metadata": {},
   "outputs": [],
   "source": [
    "# 2. Defining the objective\n",
    "def objective(space):\n",
    "    model = RandomForestClassifier(criterion = space['criterion'], max_depth = space['max_depth'],\n",
    "                                 max_features = space['max_features'],\n",
    "                                 min_samples_leaf = space['min_samples_leaf'],\n",
    "                                 min_samples_split = space['min_samples_split'],\n",
    "                                 n_estimators = space['n_estimators'], \n",
    "                                 )\n",
    "    from sklearn.model_selection import cross_val_score\n",
    "    accuracy = cross_val_score(model, X_train, y_train, cv = 5).mean()\n",
    "\n",
    "    # We aim to maximize accuracy, therefore we return it as a negative value\n",
    "    return {'loss': -accuracy, 'status': STATUS_OK }"
   ]
  },
  {
   "cell_type": "code",
   "execution_count": 30,
   "metadata": {},
   "outputs": [
    {
     "name": "stdout",
     "output_type": "stream",
     "text": [
      "100%|██████████| 80/80 [05:10<00:00,  3.88s/trial, best loss: -0.7769898492216016]\n"
     ]
    },
    {
     "data": {
      "text/plain": [
       "{'criterion': 1,\n",
       " 'max_depth': 450.0,\n",
       " 'max_features': 0,\n",
       " 'min_samples_leaf': 0.0024165743352262733,\n",
       " 'min_samples_split': 0.06845980032544075,\n",
       " 'n_estimators': 2}"
      ]
     },
     "execution_count": 30,
     "metadata": {},
     "output_type": "execute_result"
    }
   ],
   "source": [
    "# defining the trail and finding the best parameteres using the 'fmin()-->bayesian optimization' \n",
    "trials = Trials()\n",
    "best = fmin(fn= objective,\n",
    "            space= space,\n",
    "            algo= tpe.suggest,\n",
    "            max_evals = 80,\n",
    "            trials= trials)\n",
    "best"
   ]
  },
  {
   "cell_type": "code",
   "execution_count": 31,
   "metadata": {},
   "outputs": [
    {
     "name": "stdout",
     "output_type": "stream",
     "text": [
      "gini\n",
      "auto\n",
      "300\n"
     ]
    }
   ],
   "source": [
    "# un-packing the best parametres using the mapping\n",
    "crit = {0: 'entropy', 1: 'gini'}\n",
    "feat = {0: 'auto', 1: 'sqrt', 2: 'log2', 3: None}\n",
    "est = {0: 10, 1: 50, 2: 300, 3: 750, 4: 1200, 5:1300, 6:1500}\n",
    "\n",
    "print(crit[best['criterion']])\n",
    "print(feat[best['max_features']])\n",
    "print(est[best['n_estimators']])"
   ]
  },
  {
   "cell_type": "code",
   "execution_count": 32,
   "metadata": {},
   "outputs": [],
   "source": [
    "# training the model with hyperparameter bayesian optimization--randomforest classification \n",
    "trainedforest = RandomForestClassifier(criterion = crit[best['criterion']], max_depth = best['max_depth'], \n",
    "                                       max_features = feat[best['max_features']], \n",
    "                                       min_samples_leaf = best['min_samples_leaf'], \n",
    "                                       min_samples_split = best['min_samples_split'], \n",
    "                                       n_estimators = est[best['n_estimators']]).fit(X_train,y_train)"
   ]
  },
  {
   "cell_type": "code",
   "execution_count": 33,
   "metadata": {},
   "outputs": [
    {
     "name": "stdout",
     "output_type": "stream",
     "text": [
      "0.7272727272727273\n",
      "[[85 14]\n",
      " [28 27]]\n",
      "              precision    recall  f1-score   support\n",
      "\n",
      "           0       0.75      0.86      0.80        99\n",
      "           1       0.66      0.49      0.56        55\n",
      "\n",
      "    accuracy                           0.73       154\n",
      "   macro avg       0.71      0.67      0.68       154\n",
      "weighted avg       0.72      0.73      0.72       154\n",
      "\n"
     ]
    }
   ],
   "source": [
    "# evaluating the model\n",
    "predictionforest = trainedforest.predict(X_test)\n",
    "print(accuracy_score(y_test,predictionforest))\n",
    "print(confusion_matrix(y_test,predictionforest))\n",
    "print(classification_report(y_test,predictionforest))\n",
    "acc5 = accuracy_score(y_test,predictionforest)"
   ]
  },
  {
   "cell_type": "markdown",
   "metadata": {},
   "source": [
    "### Genetic algorithm"
   ]
  },
  {
   "cell_type": "code",
   "execution_count": 35,
   "metadata": {},
   "outputs": [
    {
     "name": "stdout",
     "output_type": "stream",
     "text": [
      "{'n_estimators': [200, 400, 600, 800, 1000, 1200, 1400, 1600, 1800, 2000], 'max_features': ['auto', 'sqrt', 'log2'], 'max_depth': [10, 120, 230, 340, 450, 560, 670, 780, 890, 1000], 'min_samples_split': [2, 5, 10, 14], 'min_samples_leaf': [1, 2, 4, 6, 8], 'criterion': ['entropy', 'gini']}\n"
     ]
    }
   ],
   "source": [
    "import numpy as np\n",
    "from sklearn.model_selection import RandomizedSearchCV\n",
    "# Number of trees in random forest\n",
    "n_estimators = [int(x) for x in np.linspace(start = 200, stop = 2000, num = 10)]\n",
    "# Number of features to consider at every split\n",
    "max_features = ['auto', 'sqrt','log2']\n",
    "# Maximum number of levels in tree\n",
    "max_depth = [int(x) for x in np.linspace(10, 1000,10)]\n",
    "# Minimum number of samples required to split a node\n",
    "min_samples_split = [2, 5, 10,14]\n",
    "# Minimum number of samples required at each leaf node\n",
    "min_samples_leaf = [1, 2, 4,6,8]\n",
    "# Create the random grid\n",
    "param = {'n_estimators': n_estimators,\n",
    "               'max_features': max_features,\n",
    "               'max_depth': max_depth,\n",
    "               'min_samples_split': min_samples_split,\n",
    "               'min_samples_leaf': min_samples_leaf,\n",
    "              'criterion':['entropy','gini']}\n",
    "print(param)"
   ]
  },
  {
   "cell_type": "code",
   "execution_count": 37,
   "metadata": {},
   "outputs": [
    {
     "data": {
      "application/vnd.jupyter.widget-view+json": {
       "model_id": "",
       "version_major": 2,
       "version_minor": 0
      },
      "text/plain": [
       "HBox(children=(IntProgress(value=0, description='Optimization Progress', max=84, style=ProgressStyle(descripti…"
      ]
     },
     "metadata": {},
     "output_type": "display_data"
    },
    {
     "name": "stdout",
     "output_type": "stream",
     "text": [
      "Generation 1 - Current best internal CV score: 0.7833333333333332\n",
      "Generation 2 - Current best internal CV score: 0.7833333333333332\n",
      "Generation 3 - Current best internal CV score: 0.7833333333333332\n",
      "Generation 4 - Current best internal CV score: 0.7833333333333332\n",
      "Generation 5 - Current best internal CV score: 0.7833333333333332\n",
      "\n",
      "Best pipeline: RandomForestClassifier(input_matrix, criterion=gini, max_depth=120, max_features=auto, min_samples_leaf=8, min_samples_split=10, n_estimators=2000)\n"
     ]
    },
    {
     "data": {
      "text/plain": [
       "TPOTClassifier(config_dict={'sklearn.ensemble.RandomForestClassifier': {'criterion': ['entropy',\n",
       "                                                                                      'gini'],\n",
       "                                                                        'max_depth': [10,\n",
       "                                                                                      120,\n",
       "                                                                                      230,\n",
       "                                                                                      340,\n",
       "                                                                                      450,\n",
       "                                                                                      560,\n",
       "                                                                                      670,\n",
       "                                                                                      780,\n",
       "                                                                                      890,\n",
       "                                                                                      1000],\n",
       "                                                                        'max_features': ['auto',\n",
       "                                                                                         'sqrt',\n",
       "                                                                                         'log2'],\n",
       "                                                                        'min_samples_leaf': [1,\n",
       "                                                                                             2,\n",
       "                                                                                             4,\n",
       "                                                                                             6,\n",
       "                                                                                             8],\n",
       "                                                                        'min_samples_split': [2,\n",
       "                                                                                              5,\n",
       "                                                                                              10,\n",
       "                                                                                              14],\n",
       "                                                                        'n_estimators': [200,\n",
       "                                                                                         400,\n",
       "                                                                                         600,\n",
       "                                                                                         800,\n",
       "                                                                                         1000,\n",
       "                                                                                         1200,\n",
       "                                                                                         1400,\n",
       "                                                                                         1600,\n",
       "                                                                                         1800,\n",
       "                                                                                         2000]}},\n",
       "               crossover_rate=0.1, cv=4, disable_update_check=False,\n",
       "               early_stop=12, generations=5, max_eval_time_mins=5,\n",
       "               max_time_mins=None, memory=None, mutation_rate=0.9, n_jobs=1,\n",
       "               offspring_size=12, periodic_checkpoint_folder=None,\n",
       "               population_size=24, random_state=None, scoring='accuracy',\n",
       "               subsample=1.0, template=None, use_dask=False, verbosity=2,\n",
       "               warm_start=False)"
      ]
     },
     "execution_count": 37,
     "metadata": {},
     "output_type": "execute_result"
    }
   ],
   "source": [
    "from tpot import TPOTClassifier\n",
    "tpot_classifier = TPOTClassifier(generations= 5, population_size= 24, offspring_size= 12,\n",
    "                                 verbosity= 2, early_stop= 12,\n",
    "                                 config_dict={'sklearn.ensemble.RandomForestClassifier': param}, \n",
    "                                 cv = 4, scoring = 'accuracy')\n",
    "tpot_classifier.fit(X_train,y_train)"
   ]
  },
  {
   "cell_type": "code",
   "execution_count": 38,
   "metadata": {},
   "outputs": [
    {
     "name": "stdout",
     "output_type": "stream",
     "text": [
      "0.7532467532467533\n"
     ]
    }
   ],
   "source": [
    "accuracy = tpot_classifier.score(X_test, y_test)\n",
    "print(accuracy)"
   ]
  },
  {
   "cell_type": "markdown",
   "metadata": {},
   "source": [
    "### Optimize hyperparameters of the model using Optuna"
   ]
  },
  {
   "cell_type": "code",
   "execution_count": 40,
   "metadata": {},
   "outputs": [],
   "source": [
    "import optuna\n",
    "import sklearn.svm\n",
    "def objective(trial):\n",
    "\n",
    "    classifier = trial.suggest_categorical('classifier', ['RandomForest', 'SVC'])\n",
    "    \n",
    "    if classifier == 'RandomForest':\n",
    "        n_estimators = trial.suggest_int('n_estimators', 200, 2000,10)\n",
    "        max_depth = int(trial.suggest_float('max_depth', 10, 100, log=True))\n",
    "\n",
    "        clf = sklearn.ensemble.RandomForestClassifier(\n",
    "            n_estimators=n_estimators, max_depth=max_depth)\n",
    "    else:\n",
    "        c = trial.suggest_float('svc_c', 1e-10, 1e10, log=True)\n",
    "        \n",
    "        clf = sklearn.svm.SVC(C=c, gamma='auto')\n",
    "\n",
    "    return sklearn.model_selection.cross_val_score(\n",
    "        clf,X_train,y_train, n_jobs=-1, cv=3).mean()"
   ]
  },
  {
   "cell_type": "code",
   "execution_count": 41,
   "metadata": {},
   "outputs": [
    {
     "name": "stderr",
     "output_type": "stream",
     "text": [
      "[I 2020-08-04 11:29:29,887] Trial 0 finished with value: 0.7639008448908019 and parameters: {'classifier': 'RandomForest', 'n_estimators': 730, 'max_depth': 96.8828954315088}. Best is trial 0 with value: 0.7639008448908019.\n",
      "[I 2020-08-04 11:29:33,674] Trial 1 finished with value: 0.6530926191614858 and parameters: {'classifier': 'SVC', 'svc_c': 41871946.458197966}. Best is trial 0 with value: 0.7639008448908019.\n",
      "[I 2020-08-04 11:29:33,750] Trial 2 finished with value: 0.6530926191614858 and parameters: {'classifier': 'SVC', 'svc_c': 1.3859485263431508e-06}. Best is trial 0 with value: 0.7639008448908019.\n",
      "[I 2020-08-04 11:29:35,227] Trial 3 finished with value: 0.7606249003666506 and parameters: {'classifier': 'RandomForest', 'n_estimators': 600, 'max_depth': 30.8893139669508}. Best is trial 0 with value: 0.7639008448908019.\n",
      "[I 2020-08-04 11:29:38,949] Trial 4 finished with value: 0.7671608480790691 and parameters: {'classifier': 'RandomForest', 'n_estimators': 1630, 'max_depth': 64.2279497708261}. Best is trial 4 with value: 0.7671608480790691.\n",
      "[I 2020-08-04 11:29:42,728] Trial 5 finished with value: 0.772030926191615 and parameters: {'classifier': 'RandomForest', 'n_estimators': 1550, 'max_depth': 18.012310113961107}. Best is trial 5 with value: 0.772030926191615.\n",
      "[I 2020-08-04 11:29:44,707] Trial 6 finished with value: 0.7704049099314524 and parameters: {'classifier': 'RandomForest', 'n_estimators': 840, 'max_depth': 86.14384870279386}. Best is trial 5 with value: 0.772030926191615.\n",
      "[I 2020-08-04 11:29:47,955] Trial 7 finished with value: 0.7687948350071737 and parameters: {'classifier': 'RandomForest', 'n_estimators': 1510, 'max_depth': 10.859659045107293}. Best is trial 5 with value: 0.772030926191615.\n",
      "[I 2020-08-04 11:29:51,146] Trial 8 finished with value: 0.7785509325681493 and parameters: {'classifier': 'RandomForest', 'n_estimators': 1450, 'max_depth': 14.71493827877937}. Best is trial 8 with value: 0.7785509325681493.\n",
      "[I 2020-08-04 11:29:53,909] Trial 9 finished with value: 0.7720229555236728 and parameters: {'classifier': 'RandomForest', 'n_estimators': 1190, 'max_depth': 79.18359593436533}. Best is trial 8 with value: 0.7785509325681493.\n",
      "[I 2020-08-04 11:29:53,999] Trial 10 finished with value: 0.6530926191614858 and parameters: {'classifier': 'SVC', 'svc_c': 7751694090.047271}. Best is trial 8 with value: 0.7785509325681493.\n",
      "[I 2020-08-04 11:29:58,288] Trial 11 finished with value: 0.767136936075243 and parameters: {'classifier': 'RandomForest', 'n_estimators': 1950, 'max_depth': 13.536365045205542}. Best is trial 8 with value: 0.7785509325681493.\n",
      "[I 2020-08-04 11:30:01,878] Trial 12 finished with value: 0.7671528774111271 and parameters: {'classifier': 'RandomForest', 'n_estimators': 1420, 'max_depth': 20.292704914759536}. Best is trial 8 with value: 0.7785509325681493.\n",
      "[I 2020-08-04 11:30:06,436] Trial 13 finished with value: 0.7704049099314524 and parameters: {'classifier': 'RandomForest', 'n_estimators': 1980, 'max_depth': 17.763670086956054}. Best is trial 8 with value: 0.7785509325681493.\n",
      "[I 2020-08-04 11:30:10,342] Trial 14 finished with value: 0.772030926191615 and parameters: {'classifier': 'RandomForest', 'n_estimators': 1760, 'max_depth': 26.05487210172064}. Best is trial 8 with value: 0.7785509325681493.\n",
      "[I 2020-08-04 11:30:12,983] Trial 15 finished with value: 0.772030926191615 and parameters: {'classifier': 'RandomForest', 'n_estimators': 1200, 'max_depth': 48.93862270402795}. Best is trial 8 with value: 0.7785509325681493.\n",
      "[I 2020-08-04 11:30:13,605] Trial 16 finished with value: 0.767144906743185 and parameters: {'classifier': 'RandomForest', 'n_estimators': 250, 'max_depth': 10.554137922506877}. Best is trial 8 with value: 0.7785509325681493.\n",
      "[I 2020-08-04 11:30:13,667] Trial 17 finished with value: 0.6530926191614858 and parameters: {'classifier': 'SVC', 'svc_c': 2.2937420188132922e-10}. Best is trial 8 with value: 0.7785509325681493.\n",
      "[I 2020-08-04 11:30:16,302] Trial 18 finished with value: 0.7671528774111271 and parameters: {'classifier': 'RandomForest', 'n_estimators': 1170, 'max_depth': 50.8828958028572}. Best is trial 8 with value: 0.7785509325681493.\n",
      "[I 2020-08-04 11:30:18,553] Trial 19 finished with value: 0.772030926191615 and parameters: {'classifier': 'RandomForest', 'n_estimators': 980, 'max_depth': 43.14570640773776}. Best is trial 8 with value: 0.7785509325681493.\n",
      "[I 2020-08-04 11:30:20,668] Trial 20 finished with value: 0.7720468675274988 and parameters: {'classifier': 'RandomForest', 'n_estimators': 950, 'max_depth': 39.083670727001106}. Best is trial 8 with value: 0.7785509325681493.\n",
      "[I 2020-08-04 11:30:23,471] Trial 21 finished with value: 0.7655268611509646 and parameters: {'classifier': 'RandomForest', 'n_estimators': 1260, 'max_depth': 45.87369613773705}. Best is trial 8 with value: 0.7785509325681493.\n",
      "[I 2020-08-04 11:30:25,687] Trial 22 finished with value: 0.7638849035549179 and parameters: {'classifier': 'RandomForest', 'n_estimators': 940, 'max_depth': 38.485359697247496}. Best is trial 8 with value: 0.7785509325681493.\n",
      "[I 2020-08-04 11:30:26,694] Trial 23 finished with value: 0.767144906743185 and parameters: {'classifier': 'RandomForest', 'n_estimators': 430, 'max_depth': 34.84223534496785}. Best is trial 8 with value: 0.7785509325681493.\n",
      "[I 2020-08-04 11:30:28,938] Trial 24 finished with value: 0.7687788936712897 and parameters: {'classifier': 'RandomForest', 'n_estimators': 980, 'max_depth': 28.357056088424834}. Best is trial 8 with value: 0.7785509325681493.\n",
      "[I 2020-08-04 11:30:31,193] Trial 25 finished with value: 0.7671528774111271 and parameters: {'classifier': 'RandomForest', 'n_estimators': 1000, 'max_depth': 22.348312188940497}. Best is trial 8 with value: 0.7785509325681493.\n",
      "[I 2020-08-04 11:30:34,473] Trial 26 finished with value: 0.7655268611509646 and parameters: {'classifier': 'RandomForest', 'n_estimators': 1350, 'max_depth': 60.50696933700681}. Best is trial 8 with value: 0.7785509325681493.\n",
      "[I 2020-08-04 11:30:34,555] Trial 27 finished with value: 0.6530926191614858 and parameters: {'classifier': 'SVC', 'svc_c': 15.218184971343423}. Best is trial 8 with value: 0.7785509325681493.\n",
      "[I 2020-08-04 11:30:36,361] Trial 28 finished with value: 0.7638769328869759 and parameters: {'classifier': 'RandomForest', 'n_estimators': 740, 'max_depth': 39.25156536680211}. Best is trial 8 with value: 0.7785509325681493.\n",
      "[I 2020-08-04 11:30:40,285] Trial 29 finished with value: 0.7720229555236728 and parameters: {'classifier': 'RandomForest', 'n_estimators': 1760, 'max_depth': 25.541221059925824}. Best is trial 8 with value: 0.7785509325681493.\n",
      "[I 2020-08-04 11:30:44,224] Trial 30 finished with value: 0.7736489717838354 and parameters: {'classifier': 'RandomForest', 'n_estimators': 1750, 'max_depth': 13.798619283437638}. Best is trial 8 with value: 0.7785509325681493.\n",
      "[I 2020-08-04 11:30:48,160] Trial 31 finished with value: 0.772030926191615 and parameters: {'classifier': 'RandomForest', 'n_estimators': 1820, 'max_depth': 13.625468297013724}. Best is trial 8 with value: 0.7785509325681493.\n",
      "[I 2020-08-04 11:30:51,116] Trial 32 finished with value: 0.772038896859557 and parameters: {'classifier': 'RandomForest', 'n_estimators': 1270, 'max_depth': 13.034246251345532}. Best is trial 8 with value: 0.7785509325681493.\n",
      "[I 2020-08-04 11:30:54,327] Trial 33 finished with value: 0.767144906743185 and parameters: {'classifier': 'RandomForest', 'n_estimators': 1380, 'max_depth': 12.918892726837099}. Best is trial 8 with value: 0.7785509325681493.\n",
      "[I 2020-08-04 11:30:54,402] Trial 34 finished with value: 0.6530926191614858 and parameters: {'classifier': 'SVC', 'svc_c': 68.42388565475154}. Best is trial 8 with value: 0.7785509325681493.\n",
      "[I 2020-08-04 11:30:58,057] Trial 35 finished with value: 0.7720229555236728 and parameters: {'classifier': 'RandomForest', 'n_estimators': 1600, 'max_depth': 15.739122910792327}. Best is trial 8 with value: 0.7785509325681493.\n",
      "[I 2020-08-04 11:31:00,610] Trial 36 finished with value: 0.772038896859557 and parameters: {'classifier': 'RandomForest', 'n_estimators': 1090, 'max_depth': 11.669584290001326}. Best is trial 8 with value: 0.7785509325681493.\n"
     ]
    },
    {
     "name": "stderr",
     "output_type": "stream",
     "text": [
      "[I 2020-08-04 11:31:03,201] Trial 37 finished with value: 0.772030926191615 and parameters: {'classifier': 'RandomForest', 'n_estimators': 1080, 'max_depth': 10.138264173148395}. Best is trial 8 with value: 0.7785509325681493.\n",
      "[I 2020-08-04 11:31:07,006] Trial 38 finished with value: 0.772038896859557 and parameters: {'classifier': 'RandomForest', 'n_estimators': 1460, 'max_depth': 16.057816738521435}. Best is trial 8 with value: 0.7785509325681493.\n",
      "[I 2020-08-04 11:31:10,929] Trial 39 finished with value: 0.7704208512673363 and parameters: {'classifier': 'RandomForest', 'n_estimators': 1710, 'max_depth': 16.563250393694773}. Best is trial 8 with value: 0.7785509325681493.\n",
      "[I 2020-08-04 11:31:10,986] Trial 40 finished with value: 0.6530926191614858 and parameters: {'classifier': 'SVC', 'svc_c': 2.601783461087175e-05}. Best is trial 8 with value: 0.7785509325681493.\n",
      "[I 2020-08-04 11:31:14,754] Trial 41 finished with value: 0.7736728837876615 and parameters: {'classifier': 'RandomForest', 'n_estimators': 1450, 'max_depth': 11.433416623866744}. Best is trial 8 with value: 0.7785509325681493.\n",
      "[I 2020-08-04 11:31:17,718] Trial 42 finished with value: 0.7638769328869759 and parameters: {'classifier': 'RandomForest', 'n_estimators': 1300, 'max_depth': 12.396044439791519}. Best is trial 8 with value: 0.7785509325681493.\n",
      "[I 2020-08-04 11:31:21,246] Trial 43 finished with value: 0.7622668579626972 and parameters: {'classifier': 'RandomForest', 'n_estimators': 1490, 'max_depth': 14.980912385632752}. Best is trial 8 with value: 0.7785509325681493.\n",
      "[I 2020-08-04 11:31:25,780] Trial 44 finished with value: 0.7655188904830225 and parameters: {'classifier': 'RandomForest', 'n_estimators': 1860, 'max_depth': 20.629099025738903}. Best is trial 8 with value: 0.7785509325681493.\n",
      "[I 2020-08-04 11:31:30,003] Trial 45 finished with value: 0.7736649131197195 and parameters: {'classifier': 'RandomForest', 'n_estimators': 1650, 'max_depth': 11.711701370725116}. Best is trial 8 with value: 0.7785509325681493.\n",
      "[I 2020-08-04 11:31:34,095] Trial 46 finished with value: 0.772030926191615 and parameters: {'classifier': 'RandomForest', 'n_estimators': 1670, 'max_depth': 11.232235675854337}. Best is trial 8 with value: 0.7785509325681493.\n",
      "[I 2020-08-04 11:31:37,562] Trial 47 finished with value: 0.7704049099314524 and parameters: {'classifier': 'RandomForest', 'n_estimators': 1540, 'max_depth': 10.02886817221852}. Best is trial 8 with value: 0.7785509325681493.\n",
      "[I 2020-08-04 11:31:41,346] Trial 48 finished with value: 0.772038896859557 and parameters: {'classifier': 'RandomForest', 'n_estimators': 1610, 'max_depth': 14.343236514927659}. Best is trial 8 with value: 0.7785509325681493.\n",
      "[I 2020-08-04 11:31:46,317] Trial 49 finished with value: 0.767144906743185 and parameters: {'classifier': 'RandomForest', 'n_estimators': 1900, 'max_depth': 18.686500003165015}. Best is trial 8 with value: 0.7785509325681493.\n",
      "[I 2020-08-04 11:31:48,458] Trial 50 finished with value: 0.7720229555236728 and parameters: {'classifier': 'RandomForest', 'n_estimators': 860, 'max_depth': 30.698954189036115}. Best is trial 8 with value: 0.7785509325681493.\n",
      "[I 2020-08-04 11:31:52,137] Trial 51 finished with value: 0.772038896859557 and parameters: {'classifier': 'RandomForest', 'n_estimators': 1590, 'max_depth': 14.075458028554753}. Best is trial 8 with value: 0.7785509325681493.\n",
      "[I 2020-08-04 11:31:55,504] Trial 52 finished with value: 0.767144906743185 and parameters: {'classifier': 'RandomForest', 'n_estimators': 1450, 'max_depth': 11.851241195356092}. Best is trial 8 with value: 0.7785509325681493.\n",
      "[I 2020-08-04 11:31:59,626] Trial 53 finished with value: 0.7703969392635103 and parameters: {'classifier': 'RandomForest', 'n_estimators': 1640, 'max_depth': 14.60090249909276}. Best is trial 8 with value: 0.7785509325681493.\n",
      "[I 2020-08-04 11:32:02,992] Trial 54 finished with value: 0.7638769328869759 and parameters: {'classifier': 'RandomForest', 'n_estimators': 1430, 'max_depth': 17.336866039974318}. Best is trial 8 with value: 0.7785509325681493.\n",
      "[I 2020-08-04 11:32:07,110] Trial 55 finished with value: 0.7704049099314524 and parameters: {'classifier': 'RandomForest', 'n_estimators': 1760, 'max_depth': 10.085504556937261}. Best is trial 8 with value: 0.7785509325681493.\n",
      "[I 2020-08-04 11:32:11,609] Trial 56 finished with value: 0.7752989000478241 and parameters: {'classifier': 'RandomForest', 'n_estimators': 2000, 'max_depth': 11.02090789892934}. Best is trial 8 with value: 0.7785509325681493.\n",
      "[I 2020-08-04 11:32:16,463] Trial 57 finished with value: 0.7704208512673363 and parameters: {'classifier': 'RandomForest', 'n_estimators': 1990, 'max_depth': 11.902273843557241}. Best is trial 8 with value: 0.7785509325681493.\n",
      "[I 2020-08-04 11:32:21,013] Trial 58 finished with value: 0.7704049099314524 and parameters: {'classifier': 'RandomForest', 'n_estimators': 1840, 'max_depth': 10.898633443956076}. Best is trial 8 with value: 0.7785509325681493.\n",
      "[I 2020-08-04 11:32:22,373] Trial 59 finished with value: 0.7687788936712897 and parameters: {'classifier': 'RandomForest', 'n_estimators': 580, 'max_depth': 56.54718100230814}. Best is trial 8 with value: 0.7785509325681493.\n",
      "[I 2020-08-04 11:32:22,448] Trial 60 finished with value: 0.6530926191614858 and parameters: {'classifier': 'SVC', 'svc_c': 43291.05033264044}. Best is trial 8 with value: 0.7785509325681493.\n",
      "[I 2020-08-04 11:32:26,219] Trial 61 finished with value: 0.7671608480790691 and parameters: {'classifier': 'RandomForest', 'n_estimators': 1530, 'max_depth': 13.655430191445715}. Best is trial 8 with value: 0.7785509325681493.\n",
      "[I 2020-08-04 11:32:28,793] Trial 62 finished with value: 0.7704128805993943 and parameters: {'classifier': 'RandomForest', 'n_estimators': 1100, 'max_depth': 11.31604888751803}. Best is trial 8 with value: 0.7785509325681493.\n",
      "[I 2020-08-04 11:32:31,789] Trial 63 finished with value: 0.7687788936712897 and parameters: {'classifier': 'RandomForest', 'n_estimators': 1270, 'max_depth': 12.790374939957042}. Best is trial 8 with value: 0.7785509325681493.\n",
      "[I 2020-08-04 11:32:35,033] Trial 64 finished with value: 0.7736808544556034 and parameters: {'classifier': 'RandomForest', 'n_estimators': 1350, 'max_depth': 36.312359114528874}. Best is trial 8 with value: 0.7785509325681493.\n",
      "[I 2020-08-04 11:32:38,188] Trial 65 finished with value: 0.7638769328869759 and parameters: {'classifier': 'RandomForest', 'n_estimators': 1370, 'max_depth': 34.859431767837265}. Best is trial 8 with value: 0.7785509325681493.\n",
      "[I 2020-08-04 11:32:42,140] Trial 66 finished with value: 0.772038896859557 and parameters: {'classifier': 'RandomForest', 'n_estimators': 1700, 'max_depth': 42.54109393442541}. Best is trial 8 with value: 0.7785509325681493.\n",
      "[I 2020-08-04 11:32:45,205] Trial 67 finished with value: 0.7622668579626972 and parameters: {'classifier': 'RandomForest', 'n_estimators': 1350, 'max_depth': 37.34173173597533}. Best is trial 8 with value: 0.7785509325681493.\n",
      "[I 2020-08-04 11:32:47,680] Trial 68 finished with value: 0.7687788936712897 and parameters: {'classifier': 'RandomForest', 'n_estimators': 1160, 'max_depth': 33.591825252525986}. Best is trial 8 with value: 0.7785509325681493.\n",
      "[I 2020-08-04 11:32:52,061] Trial 69 finished with value: 0.7655188904830225 and parameters: {'classifier': 'RandomForest', 'n_estimators': 1900, 'max_depth': 50.661985652702896}. Best is trial 8 with value: 0.7785509325681493.\n",
      "[I 2020-08-04 11:32:54,920] Trial 70 finished with value: 0.7639008448908019 and parameters: {'classifier': 'RandomForest', 'n_estimators': 1210, 'max_depth': 25.787833491136112}. Best is trial 8 with value: 0.7785509325681493.\n",
      "[I 2020-08-04 11:32:57,270] Trial 71 finished with value: 0.7704049099314524 and parameters: {'classifier': 'RandomForest', 'n_estimators': 1070, 'max_depth': 10.785572813130212}. Best is trial 8 with value: 0.7785509325681493.\n",
      "[I 2020-08-04 11:33:01,150] Trial 72 finished with value: 0.7655268611509646 and parameters: {'classifier': 'RandomForest', 'n_estimators': 1730, 'max_depth': 41.4454107129009}. Best is trial 8 with value: 0.7785509325681493.\n"
     ]
    },
    {
     "name": "stderr",
     "output_type": "stream",
     "text": [
      "[I 2020-08-04 11:33:03,197] Trial 73 finished with value: 0.7736649131197195 and parameters: {'classifier': 'RandomForest', 'n_estimators': 900, 'max_depth': 12.249112467424556}. Best is trial 8 with value: 0.7785509325681493.\n",
      "[I 2020-08-04 11:33:05,308] Trial 74 finished with value: 0.767144906743185 and parameters: {'classifier': 'RandomForest', 'n_estimators': 960, 'max_depth': 30.45796450056927}. Best is trial 8 with value: 0.7785509325681493.\n",
      "[I 2020-08-04 11:33:07,192] Trial 75 finished with value: 0.7687709230033476 and parameters: {'classifier': 'RandomForest', 'n_estimators': 860, 'max_depth': 47.078868789325746}. Best is trial 8 with value: 0.7785509325681493.\n",
      "[I 2020-08-04 11:33:08,968] Trial 76 finished with value: 0.7638928742228598 and parameters: {'classifier': 'RandomForest', 'n_estimators': 790, 'max_depth': 12.469467625860107}. Best is trial 8 with value: 0.7785509325681493.\n",
      "[I 2020-08-04 11:33:09,039] Trial 77 finished with value: 0.6530926191614858 and parameters: {'classifier': 'SVC', 'svc_c': 0.00021397978416888664}. Best is trial 8 with value: 0.7785509325681493.\n",
      "[I 2020-08-04 11:33:12,597] Trial 78 finished with value: 0.7655029491471385 and parameters: {'classifier': 'RandomForest', 'n_estimators': 1570, 'max_depth': 15.216148278515885}. Best is trial 8 with value: 0.7785509325681493.\n",
      "[I 2020-08-04 11:33:14,131] Trial 79 finished with value: 0.772030926191615 and parameters: {'classifier': 'RandomForest', 'n_estimators': 660, 'max_depth': 10.014196882796826}. Best is trial 8 with value: 0.7785509325681493.\n",
      "[I 2020-08-04 11:33:17,693] Trial 80 finished with value: 0.7769249163079867 and parameters: {'classifier': 'RandomForest', 'n_estimators': 1520, 'max_depth': 29.015562096138318}. Best is trial 8 with value: 0.7785509325681493.\n",
      "[I 2020-08-04 11:33:20,160] Trial 81 finished with value: 0.7671528774111271 and parameters: {'classifier': 'RandomForest', 'n_estimators': 910, 'max_depth': 36.83661686346819}. Best is trial 8 with value: 0.7785509325681493.\n",
      "[I 2020-08-04 11:33:23,696] Trial 82 finished with value: 0.7704049099314524 and parameters: {'classifier': 'RandomForest', 'n_estimators': 1480, 'max_depth': 73.52211056132668}. Best is trial 8 with value: 0.7785509325681493.\n",
      "[I 2020-08-04 11:33:27,542] Trial 83 finished with value: 0.7736649131197195 and parameters: {'classifier': 'RandomForest', 'n_estimators': 1400, 'max_depth': 40.27956169505458}. Best is trial 8 with value: 0.7785509325681493.\n",
      "[I 2020-08-04 11:33:30,843] Trial 84 finished with value: 0.7736569424517775 and parameters: {'classifier': 'RandomForest', 'n_estimators': 1330, 'max_depth': 94.04407168414109}. Best is trial 8 with value: 0.7785509325681493.\n",
      "[I 2020-08-04 11:33:34,105] Trial 85 finished with value: 0.7769249163079867 and parameters: {'classifier': 'RandomForest', 'n_estimators': 1330, 'max_depth': 91.00567641275872}. Best is trial 8 with value: 0.7785509325681493.\n",
      "[I 2020-08-04 11:33:37,579] Trial 86 finished with value: 0.7671608480790691 and parameters: {'classifier': 'RandomForest', 'n_estimators': 1410, 'max_depth': 55.42570602984672}. Best is trial 8 with value: 0.7785509325681493.\n",
      "[I 2020-08-04 11:33:40,575] Trial 87 finished with value: 0.7703969392635103 and parameters: {'classifier': 'RandomForest', 'n_estimators': 1220, 'max_depth': 69.50674700473195}. Best is trial 8 with value: 0.7785509325681493.\n",
      "[I 2020-08-04 11:33:44,411] Trial 88 finished with value: 0.7687709230033476 and parameters: {'classifier': 'RandomForest', 'n_estimators': 1510, 'max_depth': 23.20378041350906}. Best is trial 8 with value: 0.7785509325681493.\n",
      "[I 2020-08-04 11:33:47,643] Trial 89 finished with value: 0.7720229555236728 and parameters: {'classifier': 'RandomForest', 'n_estimators': 1400, 'max_depth': 19.55559153775071}. Best is trial 8 with value: 0.7785509325681493.\n",
      "[I 2020-08-04 11:33:50,564] Trial 90 finished with value: 0.7704049099314524 and parameters: {'classifier': 'RandomForest', 'n_estimators': 1310, 'max_depth': 28.434747719427083}. Best is trial 8 with value: 0.7785509325681493.\n",
      "[I 2020-08-04 11:33:53,531] Trial 91 finished with value: 0.7671528774111271 and parameters: {'classifier': 'RandomForest', 'n_estimators': 1320, 'max_depth': 85.92804193190926}. Best is trial 8 with value: 0.7785509325681493.\n",
      "[I 2020-08-04 11:33:56,651] Trial 92 finished with value: 0.7736649131197195 and parameters: {'classifier': 'RandomForest', 'n_estimators': 1430, 'max_depth': 94.4296797939599}. Best is trial 8 with value: 0.7785509325681493.\n",
      "[I 2020-08-04 11:33:59,895] Trial 93 finished with value: 0.767144906743185 and parameters: {'classifier': 'RandomForest', 'n_estimators': 1450, 'max_depth': 93.14673982038212}. Best is trial 8 with value: 0.7785509325681493.\n",
      "[I 2020-08-04 11:34:03,599] Trial 94 finished with value: 0.7704049099314524 and parameters: {'classifier': 'RandomForest', 'n_estimators': 1650, 'max_depth': 81.68643289650129}. Best is trial 8 with value: 0.7785509325681493.\n",
      "[I 2020-08-04 11:34:07,068] Trial 95 finished with value: 0.7655109198150805 and parameters: {'classifier': 'RandomForest', 'n_estimators': 1560, 'max_depth': 97.67990209993715}. Best is trial 8 with value: 0.7785509325681493.\n",
      "[I 2020-08-04 11:34:10,285] Trial 96 finished with value: 0.7736728837876615 and parameters: {'classifier': 'RandomForest', 'n_estimators': 1500, 'max_depth': 11.979726178861739}. Best is trial 8 with value: 0.7785509325681493.\n",
      "[I 2020-08-04 11:34:13,550] Trial 97 finished with value: 0.772030926191615 and parameters: {'classifier': 'RandomForest', 'n_estimators': 1490, 'max_depth': 10.49000238849755}. Best is trial 8 with value: 0.7785509325681493.\n",
      "[I 2020-08-04 11:34:16,560] Trial 98 finished with value: 0.7736728837876615 and parameters: {'classifier': 'RandomForest', 'n_estimators': 1390, 'max_depth': 12.083108302697017}. Best is trial 8 with value: 0.7785509325681493.\n",
      "[I 2020-08-04 11:34:19,094] Trial 99 finished with value: 0.7720149848557308 and parameters: {'classifier': 'RandomForest', 'n_estimators': 1150, 'max_depth': 12.242595404295937}. Best is trial 8 with value: 0.7785509325681493.\n"
     ]
    },
    {
     "name": "stdout",
     "output_type": "stream",
     "text": [
      "Accuracy: 0.7785509325681493\n",
      "Best hyperparameters: {'classifier': 'RandomForest', 'n_estimators': 1450, 'max_depth': 14.71493827877937}\n"
     ]
    }
   ],
   "source": [
    "study = optuna.create_study(direction='maximize')\n",
    "study.optimize(objective, n_trials=100)\n",
    "\n",
    "trial = study.best_trial\n",
    "\n",
    "print('Accuracy: {}'.format(trial.value))\n",
    "print(\"Best hyperparameters: {}\".format(trial.params))"
   ]
  },
  {
   "cell_type": "code",
   "execution_count": 42,
   "metadata": {},
   "outputs": [
    {
     "data": {
      "text/plain": [
       "{'classifier': 'RandomForest',\n",
       " 'n_estimators': 1450,\n",
       " 'max_depth': 14.71493827877937}"
      ]
     },
     "execution_count": 42,
     "metadata": {},
     "output_type": "execute_result"
    }
   ],
   "source": [
    "study.best_params"
   ]
  },
  {
   "cell_type": "code",
   "execution_count": 43,
   "metadata": {},
   "outputs": [
    {
     "data": {
      "text/plain": [
       "RandomForestClassifier(bootstrap=True, class_weight=None, criterion='gini',\n",
       "                       max_depth=30, max_features='auto', max_leaf_nodes=None,\n",
       "                       min_impurity_decrease=0.0, min_impurity_split=None,\n",
       "                       min_samples_leaf=1, min_samples_split=2,\n",
       "                       min_weight_fraction_leaf=0.0, n_estimators=330,\n",
       "                       n_jobs=None, oob_score=False, random_state=None,\n",
       "                       verbose=0, warm_start=False)"
      ]
     },
     "execution_count": 43,
     "metadata": {},
     "output_type": "execute_result"
    }
   ],
   "source": [
    "rf=RandomForestClassifier(n_estimators=330,max_depth=30)\n",
    "rf.fit(X_train,y_train)"
   ]
  },
  {
   "cell_type": "code",
   "execution_count": 44,
   "metadata": {},
   "outputs": [
    {
     "name": "stdout",
     "output_type": "stream",
     "text": [
      "0.7662337662337663\n",
      "[[87 12]\n",
      " [24 31]]\n",
      "              precision    recall  f1-score   support\n",
      "\n",
      "           0       0.78      0.88      0.83        99\n",
      "           1       0.72      0.56      0.63        55\n",
      "\n",
      "    accuracy                           0.77       154\n",
      "   macro avg       0.75      0.72      0.73       154\n",
      "weighted avg       0.76      0.77      0.76       154\n",
      "\n"
     ]
    }
   ],
   "source": [
    "y_pred=rf.predict(X_test)\n",
    "print(accuracy_score(y_test,y_pred))\n",
    "print(confusion_matrix(y_test,y_pred))\n",
    "print(classification_report(y_test,y_pred))"
   ]
  },
  {
   "cell_type": "code",
   "execution_count": null,
   "metadata": {},
   "outputs": [],
   "source": []
  }
 ],
 "metadata": {
  "kernelspec": {
   "display_name": "Python 3",
   "language": "python",
   "name": "python3"
  },
  "language_info": {
   "codemirror_mode": {
    "name": "ipython",
    "version": 3
   },
   "file_extension": ".py",
   "mimetype": "text/x-python",
   "name": "python",
   "nbconvert_exporter": "python",
   "pygments_lexer": "ipython3",
   "version": "3.7.4"
  }
 },
 "nbformat": 4,
 "nbformat_minor": 2
}
